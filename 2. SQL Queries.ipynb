{
 "cells": [
  {
   "cell_type": "markdown",
   "id": "e898002a",
   "metadata": {},
   "source": [
    "# Problem :-2   SQL Queries"
   ]
  },
  {
   "cell_type": "code",
   "execution_count": 1,
   "id": "e82ccbda",
   "metadata": {},
   "outputs": [
    {
     "name": "stdout",
     "output_type": "stream",
     "text": [
      "Requirement already satisfied: pandas in c:\\programdata\\anaconda3\\lib\\site-packages (2.0.3)\n",
      "Requirement already satisfied: python-dateutil>=2.8.2 in c:\\programdata\\anaconda3\\lib\\site-packages (from pandas) (2.8.2)\n",
      "Requirement already satisfied: pytz>=2020.1 in c:\\programdata\\anaconda3\\lib\\site-packages (from pandas) (2023.3.post1)\n",
      "Requirement already satisfied: tzdata>=2022.1 in c:\\programdata\\anaconda3\\lib\\site-packages (from pandas) (2023.3)\n",
      "Requirement already satisfied: numpy>=1.21.0 in c:\\programdata\\anaconda3\\lib\\site-packages (from pandas) (1.24.3)\n",
      "Requirement already satisfied: six>=1.5 in c:\\programdata\\anaconda3\\lib\\site-packages (from python-dateutil>=2.8.2->pandas) (1.16.0)\n",
      "Note: you may need to restart the kernel to use updated packages.\n"
     ]
    },
    {
     "name": "stderr",
     "output_type": "stream",
     "text": [
      "DEPRECATION: Loading egg at c:\\programdata\\anaconda3\\lib\\site-packages\\vboxapi-1.0-py3.11.egg is deprecated. pip 23.3 will enforce this behaviour change. A possible replacement is to use pip for package installation..\n"
     ]
    }
   ],
   "source": [
    "pip install pandas"
   ]
  },
  {
   "cell_type": "code",
   "execution_count": 3,
   "id": "960855bb",
   "metadata": {},
   "outputs": [
    {
     "name": "stdout",
     "output_type": "stream",
     "text": [
      "\n",
      "Average Marks:\n",
      "      0\n",
      "0  63.4\n",
      "\n",
      "Names in Ascending Order:\n",
      "         0\n",
      "0    Alice\n",
      "1      Bob\n",
      "2  Charlie\n",
      "3    David\n",
      "4      Raj\n",
      "\n",
      "Students Scoring Below 30:\n",
      "   0    1\n",
      "0  2  Bob\n",
      "\n",
      "Names Starting with 'R':\n",
      "   0\n",
      "0  5\n",
      "\n",
      "Students Pursuing BCA:\n",
      "   0\n",
      "0  1\n",
      "1  5\n"
     ]
    }
   ],
   "source": [
    "import sqlite3\n",
    "import pandas as pd\n",
    "\n",
    "conn = sqlite3.connect('student_course.db')\n",
    "cursor = conn.cursor()\n",
    "\n",
    "cursor.execute('''\n",
    "CREATE TABLE IF NOT EXISTS Student (\n",
    "    RollNo INTEGER PRIMARY KEY,\n",
    "    Name TEXT,\n",
    "    Marks INTEGER,\n",
    "    Aadhar_Number TEXT UNIQUE,\n",
    "    Address TEXT\n",
    ")\n",
    "''')\n",
    "\n",
    "cursor.execute('''\n",
    "CREATE TABLE IF NOT EXISTS Course (\n",
    "    RollNo INTEGER,\n",
    "    Course TEXT,\n",
    "    Course_Duration INTEGER,\n",
    "    FOREIGN KEY (RollNo) REFERENCES Student(RollNo)\n",
    ")\n",
    "''')\n",
    "\n",
    "cursor.execute('DELETE FROM Student')  \n",
    "cursor.executemany('''\n",
    "INSERT INTO Student (RollNo, Name, Marks, Aadhar_Number, Address) VALUES (?, ?, ?, ?, ?)\n",
    "''', [\n",
    "    (1, 'Alice', 85, '123456789012', '123 Street, City'),\n",
    "    (2, 'Bob', 28, '234567890123', '456 Avenue, City'),\n",
    "    (3, 'Charlie', 92, '345678901234', '789 Boulevard, City'),\n",
    "    (4, 'David', 47, '456789012345', '101 Road, City'),\n",
    "    (5, 'Raj', 65, '567890123456', '202 Highway, City')\n",
    "])\n",
    "\n",
    "cursor.execute('DELETE FROM Course') \n",
    "cursor.executemany('''\n",
    "INSERT INTO Course (RollNo, Course, Course_Duration) VALUES (?, ?, ?)\n",
    "''', [\n",
    "    (1, 'BCA', 3),\n",
    "    (2, 'MCA', 2),\n",
    "    (3, 'B.Tech', 4),\n",
    "    (4, 'MBA', 2),\n",
    "    (5, 'BCA', 3)\n",
    "])\n",
    "\n",
    "conn.commit()\n",
    "\n",
    "queries = {\n",
    "    \"Average Marks\": \"SELECT AVG(Marks) AS Average_Marks FROM Student\",\n",
    "    \"Names in Ascending Order\": \"SELECT Name FROM Student ORDER BY Name ASC\",\n",
    "    \"Students Scoring Below 30\": \"SELECT RollNo, Name FROM Student WHERE Marks < 30\",\n",
    "    \"Names Starting with 'R'\": \"SELECT RollNo FROM Student WHERE Name LIKE 'R%'\",\n",
    "    \"Students Pursuing BCA\": \"SELECT RollNo FROM Course WHERE Course = 'BCA'\"\n",
    "}\n",
    "\n",
    "def execute_and_display_query(query):\n",
    "    result = cursor.execute(query).fetchall()\n",
    "    return pd.DataFrame(result)\n",
    "\n",
    "for query_name, query in queries.items():\n",
    "    print(f\"\\n{query_name}:\")\n",
    "    df = execute_and_display_query(query)\n",
    "    print(df)\n",
    "\n",
    "conn.close()\n"
   ]
  },
  {
   "cell_type": "code",
   "execution_count": null,
   "id": "0368718e",
   "metadata": {},
   "outputs": [],
   "source": []
  }
 ],
 "metadata": {
  "kernelspec": {
   "display_name": "Python 3 (ipykernel)",
   "language": "python",
   "name": "python3"
  },
  "language_info": {
   "codemirror_mode": {
    "name": "ipython",
    "version": 3
   },
   "file_extension": ".py",
   "mimetype": "text/x-python",
   "name": "python",
   "nbconvert_exporter": "python",
   "pygments_lexer": "ipython3",
   "version": "3.11.5"
  }
 },
 "nbformat": 4,
 "nbformat_minor": 5
}
